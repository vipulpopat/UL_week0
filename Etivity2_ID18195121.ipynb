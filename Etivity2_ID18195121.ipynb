{
 "cells": [
  {
   "cell_type": "markdown",
   "metadata": {},
   "source": [
    "#Student Name: Vipul Popat\n",
    "#Student ID: 18195121"
   ]
  },
  {
   "cell_type": "code",
   "execution_count": 4,
   "metadata": {
    "collapsed": false
   },
   "outputs": [
    {
     "name": "stderr",
     "output_type": "stream",
     "text": [
      "E\n",
      "======================================================================\n",
      "ERROR: /home/ul18195121/ (unittest.loader._FailedTest)\n",
      "----------------------------------------------------------------------\n",
      "AttributeError: module '__main__' has no attribute '/home/ul18195121/'\n",
      "\n",
      "----------------------------------------------------------------------\n",
      "Ran 1 test in 0.002s\n",
      "\n",
      "FAILED (errors=1)\n"
     ]
    },
    {
     "ename": "SystemExit",
     "evalue": "True",
     "output_type": "error",
     "traceback": [
      "An exception has occurred, use %tb to see the full traceback.\n",
      "\u001b[1;31mSystemExit\u001b[0m\u001b[1;31m:\u001b[0m True\n"
     ]
    },
    {
     "name": "stderr",
     "output_type": "stream",
     "text": [
      "To exit: use 'exit', 'quit', or Ctrl-D.\n"
     ]
    }
   ],
   "source": [
    "\"\"\"\n",
    "The parameters to this exercise is a list of tuples where each tuple is\n",
    "signifying a prefix and a exponent e.g. (6*x^4) is represented as (6,4)\n",
    "Hence it would be easy to represent a nth grade polynomial very easily by this\n",
    "solution\n",
    "\"\"\"\n",
    "\n",
    "\n",
    "def derivative(poly):\n",
    "    poly = filter(lambda x : x[1] != 0, poly)\n",
    "    poly = map(lambda x : (x[0]*x[1], x[1]-1), poly)\n",
    "    return poly\n",
    "\n",
    "import unittest\n",
    "\n",
    "class TestEtivity1(unittest.TestCase):\n",
    "\n",
    "    def test_derivative1(self):\n",
    "        input = [(2,3)]\n",
    "        expected_result = [(6,2)]\n",
    "        output = derivative(input)\n",
    "        assert(len(output) == 1)\n",
    "        self.assertListEqual(output, expected_result, \"Failed Result\")\n",
    "\n",
    "    def test_derivative2(self):\n",
    "        input = [(16,0), (16,1), (1,2)]\n",
    "        expected_result = [(16,0), (2,1)]\n",
    "        output = derivative(input)\n",
    "        assert(len(output) == 2)\n",
    "        self.assertListEqual(output, expected_result, \"Failed Result\")\n",
    "\n",
    "    def test_derivative3(self):\n",
    "        input = [(1,3), (.5,8)]\n",
    "        expected_result = [(3,2), (4,7)]\n",
    "        output = derivative(input)\n",
    "        assert(len(output) == 2)\n",
    "        self.assertListEqual(output, expected_result, \"Failed Result\")\n",
    "\n",
    "\n",
    "if __name__ == '__main__':\n",
    "    unittest.main()\n",
    "\n",
    "polytest = [(4,0), (4,1), (5,3)]\n",
    "result = derivative(polytest)\n"
   ]
  },
  {
   "cell_type": "code",
   "execution_count": 2,
   "metadata": {
    "collapsed": false
   },
   "outputs": [
    {
     "name": "stdout",
     "output_type": "stream",
     "text": [
      "<filter object at 0x7f881c0e6898>\n",
      "<map object at 0x7f881c0e68d0>\n"
     ]
    },
    {
     "data": {
      "text/plain": [
       "<map at 0x7f881c0e68d0>"
      ]
     },
     "execution_count": 2,
     "metadata": {},
     "output_type": "execute_result"
    }
   ],
   "source": [
    "derivative([(5,4),(4,3),(2,1),(5,0)])"
   ]
  },
  {
   "cell_type": "code",
   "execution_count": null,
   "metadata": {
    "collapsed": true
   },
   "outputs": [],
   "source": []
  }
 ],
 "metadata": {
  "kernelspec": {
   "display_name": "Python 3.6",
   "language": "python",
   "name": "python3.6"
  },
  "language_info": {
   "codemirror_mode": {
    "name": "ipython",
    "version": 3
   },
   "file_extension": ".py",
   "mimetype": "text/x-python",
   "name": "python",
   "nbconvert_exporter": "python",
   "pygments_lexer": "ipython3",
   "version": "3.6.6"
  }
 },
 "nbformat": 4,
 "nbformat_minor": 0
}
