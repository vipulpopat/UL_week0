{
 "cells": [
  {
   "cell_type": "markdown",
   "metadata": {},
   "source": [
    "Student name: Vipul Popat Student ID nr: 18195121"
   ]
  },
  {
   "cell_type": "markdown",
   "metadata": {},
   "source": [
    "Problem Description: Given a list of tuples consisting of Phone Name, Operating System, start price and end price, retrieve the phone details which fall in the range of the parameters which are operating system and expected price"
   ]
  },
  {
   "cell_type": "code",
   "execution_count": 1,
   "metadata": {
    "collapsed": true
   },
   "outputs": [],
   "source": [
    "phone_details = [('IPHONE5', 'IOS', 599, 699), ('IPHONE5S', 'IOS', 699, 799) ,('IPHONE6', 'IOS', 799, 899),('IPHONEX', 'IOS', 899, 1099),\n",
    "('ONEPLUS6', 'ANDROID', 399, 499),('ONEPLUS6T', 'ANDROID', 499, 699),('SAMSUNGNOTE7', 'ANDROID', 899, 999),('SAMSUNGNOTE8', 'ANDROID', 999, 1299)]\n",
    "\n",
    "def searchPhones(osType, price) :\n",
    "    phone_options = []\n",
    "    for phone_detail in phone_details :\n",
    "        if phone_detail[1].lower() == osType.lower() and price in range(phone_detail[2], phone_detail[3] + 1) :\n",
    "            #print(\"found{}\".format(phone_detail))\n",
    "            phone_options.append(phone_detail)\n",
    "\n",
    "    return phone_options"
   ]
  },
  {
   "cell_type": "code",
   "execution_count": 7,
   "metadata": {
    "collapsed": false
   },
   "outputs": [
    {
     "name": "stdout",
     "output_type": "stream",
     "text": [
      "[('IPHONEX', 'IOS', 899, 1099)]\n"
     ]
    }
   ],
   "source": [
    "print(searchPhones(\"ios\", 1000))"
   ]
  },
  {
   "cell_type": "code",
   "execution_count": 3,
   "metadata": {
    "collapsed": false
   },
   "outputs": [
    {
     "name": "stdout",
     "output_type": "stream",
     "text": [
      "[('ONEPLUS6', 'ANDROID', 399, 499), ('ONEPLUS6T', 'ANDROID', 499, 699)]\n"
     ]
    }
   ],
   "source": [
    "print(searchPhones(\"android\", 499))"
   ]
  },
  {
   "cell_type": "code",
   "execution_count": 4,
   "metadata": {
    "collapsed": false
   },
   "outputs": [
    {
     "name": "stdout",
     "output_type": "stream",
     "text": [
      "[]\n"
     ]
    }
   ],
   "source": [
    "print(searchPhones(\"microsoft\", 499))"
   ]
  },
  {
   "cell_type": "code",
   "execution_count": null,
   "metadata": {
    "collapsed": true
   },
   "outputs": [],
   "source": []
  }
 ],
 "metadata": {
  "kernelspec": {
   "display_name": "Python 3.5",
   "language": "python",
   "name": "python3.5"
  },
  "language_info": {
   "codemirror_mode": {
    "name": "ipython",
    "version": 3
   },
   "file_extension": ".py",
   "mimetype": "text/x-python",
   "name": "python",
   "nbconvert_exporter": "python",
   "pygments_lexer": "ipython3",
   "version": "3.5.6"
  }
 },
 "nbformat": 4,
 "nbformat_minor": 0
}
