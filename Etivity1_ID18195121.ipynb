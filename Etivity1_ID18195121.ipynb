{
 "cells": [
  {
   "cell_type": "markdown",
   "metadata": {},
   "source": [
    "Student name: Vipul Popat Student ID nr: 18195121"
   ]
  },
  {
   "cell_type": "markdown",
   "metadata": {},
   "source": [
    "Problem Description: Given a list of tuples consisting of Phone Name, Operating System, min price and max price, retrieve the phone details which fall in the range of the parameters which are operating system and price which is affordable by the user"
   ]
  },
  {
   "cell_type": "code",
   "execution_count": 1,
   "metadata": {
    "collapsed": false
   },
   "outputs": [],
   "source": [
    "# thanks to Cormac for making me change the container for storage of the reference data\n",
    "phone_details = {\n",
    "    \"IOS\":[('IPHONE5', 'IOS', 599, 699), ('IPHONE5S', 'IOS', 699, 799), ('IPHONE6', 'IOS', 799, 899), ('IPHONEX', 'IOS', 899, 1099)],\n",
    "    \"ANDROID\":[('ONEPLUS6', 'ANDROID', 399, 499),('ONEPLUS6T', 'ANDROID', 499, 699),('SAMSUNGNOTE7', 'ANDROID', 899, 999),('SAMSUNGNOTE8', 'ANDROID', 999, 1299)]\n",
    "}\n",
    "\n",
    "def searchPhones(os_type, price) :\n",
    "    phone_options = []\n",
    "    if os_type.upper() not in phone_details :\n",
    "        return phone_options\n",
    "    \n",
    "    phones_with_os = phone_details[os_type.upper()]\n",
    "    \n",
    "    for phone_detail in phones_with_os :\n",
    "        if doesPhoneMatchCriteria(phone_detail, price) :\n",
    "            phone_options.append(phone_detail)\n",
    "    return phone_options\n",
    "\n",
    "def doesPhoneMatchCriteria(phone_detail, price) :\n",
    "    if phone_detail[2] <= price : # Thanks for Garret for suggesting this.\n",
    "        return True\n",
    "    return False\n",
    "\n",
    "def test_android_for_price_499():\n",
    "    results = searchPhones(\"android\", 499)\n",
    "    assert(len(results)==2)\n",
    "    for result in results :\n",
    "        assert result[0], \"ANDROID\"\n",
    "        assert doesPhoneMatchCriteria(result, 499)\n",
    "        \n",
    "def test_ios_for_price_1000():\n",
    "    results = searchPhones(\"ios\", 1000)\n",
    "    assert(len(results)==4)\n",
    "    for result in results :\n",
    "        assert result[0], \"IOS\"\n",
    "        assert doesPhoneMatchCriteria(result, 1000)        \n",
    "    \n",
    "def test_unknown_os_for_price_1000():\n",
    "    results = searchPhones(\"abcd\", 1000)\n",
    "    assert(len(results)==0)\n",
    "\n",
    "# Test Cases for various kind of parameters\n",
    "test_android_for_price_499()\n",
    "test_ios_for_price_1000()\n",
    "test_unknown_os_for_price_1000()"
   ]
  },
  {
   "cell_type": "code",
   "execution_count": 2,
   "metadata": {
    "collapsed": false
   },
   "outputs": [
    {
     "name": "stdout",
     "output_type": "stream",
     "text": [
      "[('IPHONE5', 'IOS', 599, 699), ('IPHONE5S', 'IOS', 699, 799), ('IPHONE6', 'IOS', 799, 899), ('IPHONEX', 'IOS', 899, 1099)]\n"
     ]
    }
   ],
   "source": [
    "print(searchPhones(\"ios\", 899))"
   ]
  },
  {
   "cell_type": "code",
   "execution_count": 3,
   "metadata": {
    "collapsed": false
   },
   "outputs": [
    {
     "name": "stdout",
     "output_type": "stream",
     "text": [
      "[('ONEPLUS6', 'ANDROID', 399, 499), ('ONEPLUS6T', 'ANDROID', 499, 699)]\n"
     ]
    }
   ],
   "source": [
    "print(searchPhones(\"android\", 699))"
   ]
  },
  {
   "cell_type": "code",
   "execution_count": 4,
   "metadata": {
    "collapsed": false
   },
   "outputs": [
    {
     "name": "stdout",
     "output_type": "stream",
     "text": [
      "[]\n"
     ]
    }
   ],
   "source": [
    "print(searchPhones(\"microsoft\", 499))"
   ]
  },
  {
   "cell_type": "code",
   "execution_count": 5,
   "metadata": {
    "collapsed": false
   },
   "outputs": [
    {
     "name": "stdout",
     "output_type": "stream",
     "text": [
      "[('ONEPLUS6', 'ANDROID', 399, 499), ('ONEPLUS6T', 'ANDROID', 499, 699)]\n"
     ]
    }
   ],
   "source": [
    "print(searchPhones(\"android\", 599.5))"
   ]
  },
  {
   "cell_type": "code",
   "execution_count": null,
   "metadata": {
    "collapsed": true
   },
   "outputs": [],
   "source": []
  }
 ],
 "metadata": {
  "kernelspec": {
   "display_name": "Python 3.5",
   "language": "python",
   "name": "python3.5"
  },
  "language_info": {
   "codemirror_mode": {
    "name": "ipython",
    "version": 3
   },
   "file_extension": ".py",
   "mimetype": "text/x-python",
   "name": "python",
   "nbconvert_exporter": "python",
   "pygments_lexer": "ipython3",
   "version": "3.5.6"
  }
 },
 "nbformat": 4,
 "nbformat_minor": 0
}
